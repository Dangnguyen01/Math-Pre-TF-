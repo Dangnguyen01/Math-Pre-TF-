{
 "cells": [
  {
   "attachments": {},
   "cell_type": "markdown",
   "metadata": {},
   "source": [
    "# Nội dung\n",
    "1. Vector\n",
    "* Ký hiệu\n",
    "* Elementwise operations\n",
    "* Dot Product\n",
    "* Inverse Vector\n",
    "* Norm\n",
    "2. Matrices\n",
    "* Kích thước ma trận\n",
    "* Scalar operations\n",
    "* Elementwise operations\n",
    "* Hadamard product\n",
    "* Matrix mulitplication (nhân ma trận)\n",
    "* Định thức - Determinants\n",
    "3. Numpy\n",
    "* Dot product\n",
    "* Broadcasting\n",
    "4. Linear Transformation\n",
    "* Ma trận bậc"
   ]
  },
  {
   "attachments": {},
   "cell_type": "markdown",
   "metadata": {},
   "source": [
    "### **1. Vectors**\n",
    "#### **1.1. Ký hiệu**\n",
    "Có nhiều cách ký hiệu vector khác nhau, hình ảnh bên dưới miêu tả một số cách ký hiệu thường gặp"
   ]
  },
  {
   "cell_type": "code",
   "execution_count": 2,
   "metadata": {},
   "outputs": [],
   "source": [
    "import numpy as np\n",
    "v = np.array([1, 2, 3])"
   ]
  },
  {
   "cell_type": "code",
   "execution_count": 3,
   "metadata": {},
   "outputs": [
    {
     "data": {
      "text/plain": [
       "array([1, 2, 3])"
      ]
     },
     "execution_count": 3,
     "metadata": {},
     "output_type": "execute_result"
    }
   ],
   "source": [
    "v"
   ]
  },
  {
   "attachments": {},
   "cell_type": "markdown",
   "metadata": {},
   "source": [
    "##### **1.2 Elementwise operations**\n",
    "Khi thực hiện các phép toán: cộng, trừ, nhân, chia,... các vector, Elementwise cho phép thực hiện các phép toán này từng vị trí tương ứng giữa các Vector.\n",
    "\n",
    "Ví dụ: Phần tử thứ 1 của Vector A sẽ thực hiện cộng với phần tử thứ 1 của Vector B, phần tử thứ 2 của A sẽ thực hiện tương ứng với phần tử thứ 2 của B"
   ]
  },
  {
   "cell_type": "code",
   "execution_count": 4,
   "metadata": {},
   "outputs": [
    {
     "name": "stdout",
     "output_type": "stream",
     "text": [
      "[3 5 7]\n"
     ]
    }
   ],
   "source": [
    "import numpy as np\n",
    "y = np.array([1, 2, 3])\n",
    "x = np.array([2, 3, 4])\n",
    "print(x + y)"
   ]
  },
  {
   "cell_type": "code",
   "execution_count": 5,
   "metadata": {},
   "outputs": [
    {
     "name": "stdout",
     "output_type": "stream",
     "text": [
      "[1 1 1]\n",
      "[2.         1.5        1.33333333]\n",
      "[ 1  0 -1]\n"
     ]
    }
   ],
   "source": [
    "print(x - y)\n",
    "print(x / y)\n",
    "print(2*x - 3*y)"
   ]
  },
  {
   "attachments": {},
   "cell_type": "markdown",
   "metadata": {},
   "source": [
    "#### **1.3 Phép nhân Vector**\n",
    "Có 2 kiểu nhân Vector là: Dot Product và Hadamard Product\n",
    "##### **1.3.1 Dot Product**\n",
    "Tích của 2 vector sẽ là một vô hướng (scalar)"
   ]
  },
  {
   "cell_type": "code",
   "execution_count": 6,
   "metadata": {},
   "outputs": [
    {
     "data": {
      "text/plain": [
       "-20"
      ]
     },
     "execution_count": 6,
     "metadata": {},
     "output_type": "execute_result"
    }
   ],
   "source": [
    "y = np.array([-1, 2, -3])\n",
    "x = np.array([2, -3, 4])\n",
    "np.dot(y, x)\n",
    "# -1 *2 + 2 * (-3) + (-3) * 4"
   ]
  },
  {
   "cell_type": "code",
   "execution_count": 7,
   "metadata": {},
   "outputs": [
    {
     "data": {
      "text/plain": [
       "-20"
      ]
     },
     "execution_count": 7,
     "metadata": {},
     "output_type": "execute_result"
    }
   ],
   "source": [
    "y.dot(x)"
   ]
  },
  {
   "cell_type": "code",
   "execution_count": 8,
   "metadata": {},
   "outputs": [
    {
     "data": {
      "text/plain": [
       "-20"
      ]
     },
     "execution_count": 8,
     "metadata": {},
     "output_type": "execute_result"
    }
   ],
   "source": [
    "x.dot(y)"
   ]
  },
  {
   "cell_type": "code",
   "execution_count": 9,
   "metadata": {},
   "outputs": [
    {
     "data": {
      "text/plain": [
       "-20"
      ]
     },
     "execution_count": 9,
     "metadata": {},
     "output_type": "execute_result"
    }
   ],
   "source": [
    "x @ y"
   ]
  },
  {
   "attachments": {},
   "cell_type": "markdown",
   "metadata": {},
   "source": [
    "Cosin giữa 2 vector"
   ]
  },
  {
   "cell_type": "code",
   "execution_count": 10,
   "metadata": {},
   "outputs": [],
   "source": [
    "from numpy import dot\n",
    "from numpy.linalg import norm\n",
    "\n",
    "cos_sin = dot(x, y)/(norm(x)*norm(y))"
   ]
  },
  {
   "cell_type": "code",
   "execution_count": 11,
   "metadata": {},
   "outputs": [
    {
     "data": {
      "text/plain": [
       "-0.9925833339709303"
      ]
     },
     "execution_count": 11,
     "metadata": {},
     "output_type": "execute_result"
    }
   ],
   "source": [
    "cos_sin"
   ]
  },
  {
   "attachments": {},
   "cell_type": "markdown",
   "metadata": {},
   "source": [
    "#### **1.3.2 Hadamard Product**\n",
    "Hadamard Product sẽ thực hiện phép nhân elementwise để tạo ra vector mới"
   ]
  },
  {
   "cell_type": "code",
   "execution_count": 12,
   "metadata": {},
   "outputs": [
    {
     "data": {
      "text/plain": [
       "array([ 2,  6, 12])"
      ]
     },
     "execution_count": 12,
     "metadata": {},
     "output_type": "execute_result"
    }
   ],
   "source": [
    "y = np.array([1, 2, 3])\n",
    "x = np.array([2, 3, 4])\n",
    "y*x"
   ]
  },
  {
   "attachments": {},
   "cell_type": "markdown",
   "metadata": {},
   "source": [
    "#### **1.4 Inverse Vector**"
   ]
  },
  {
   "cell_type": "code",
   "execution_count": 13,
   "metadata": {},
   "outputs": [],
   "source": [
    "A = np.array([[2, 3],\n",
    "              [4, 5]\n",
    "])"
   ]
  },
  {
   "cell_type": "code",
   "execution_count": 14,
   "metadata": {},
   "outputs": [
    {
     "data": {
      "text/plain": [
       "array([[-2.5,  1.5],\n",
       "       [ 2. , -1. ]])"
      ]
     },
     "execution_count": 14,
     "metadata": {},
     "output_type": "execute_result"
    }
   ],
   "source": [
    "A_inverse = np.linalg.inv(A)\n",
    "A_inverse"
   ]
  },
  {
   "cell_type": "code",
   "execution_count": 15,
   "metadata": {},
   "outputs": [
    {
     "data": {
      "text/plain": [
       "array([[1., 0.],\n",
       "       [0., 1.]])"
      ]
     },
     "execution_count": 15,
     "metadata": {},
     "output_type": "execute_result"
    }
   ],
   "source": [
    "A.dot(A_inverse)"
   ]
  },
  {
   "attachments": {},
   "cell_type": "markdown",
   "metadata": {},
   "source": [
    "#### **1.5 Norm**"
   ]
  },
  {
   "cell_type": "code",
   "execution_count": 16,
   "metadata": {},
   "outputs": [
    {
     "name": "stdout",
     "output_type": "stream",
     "text": [
      "[ -1 100  -6 -11   3]\n",
      "121.0\n"
     ]
    }
   ],
   "source": [
    "# l1 norm of a vector\n",
    "from numpy import array\n",
    "from numpy.linalg import norm\n",
    "\n",
    "a = array([-1, 100, -6, -11, 3])\n",
    "print(a)\n",
    "l1 = norm(a, 1)\n",
    "print(l1)"
   ]
  },
  {
   "cell_type": "code",
   "execution_count": 17,
   "metadata": {},
   "outputs": [
    {
     "name": "stdout",
     "output_type": "stream",
     "text": [
      "[[0 3 4]]\n",
      "5.0\n"
     ]
    }
   ],
   "source": [
    "# l2 norm  of a vector\n",
    "a = array([\n",
    "    [0, 3, 4]\n",
    "])\n",
    "print(a)\n",
    "l2 = norm(a, 2)\n",
    "print(l2)"
   ]
  },
  {
   "attachments": {},
   "cell_type": "markdown",
   "metadata": {},
   "source": [
    "### **2. Matrices**\n",
    "Matrices (ma trận) là một lưới hình chữ nhật\n",
    "\n",
    "##### **2.1 Kích thước ma trận**\n",
    "Kích thước ma trận = `[số hàng x số cột]`"
   ]
  },
  {
   "cell_type": "code",
   "execution_count": 18,
   "metadata": {},
   "outputs": [],
   "source": [
    "v = np.array([\n",
    "    [2, 4],\n",
    "    [5, -7],\n",
    "    [12, 5]\n",
    "])"
   ]
  },
  {
   "cell_type": "code",
   "execution_count": 19,
   "metadata": {},
   "outputs": [
    {
     "data": {
      "text/plain": [
       "(3, 2)"
      ]
     },
     "execution_count": 19,
     "metadata": {},
     "output_type": "execute_result"
    }
   ],
   "source": [
    "v.shape"
   ]
  },
  {
   "cell_type": "code",
   "execution_count": 20,
   "metadata": {},
   "outputs": [
    {
     "name": "stdout",
     "output_type": "stream",
     "text": [
      "(3, 3)\n"
     ]
    }
   ],
   "source": [
    "a = np.array([\n",
    "    [1, 2, 3],\n",
    "    [4, 5, 6],\n",
    "    [7, 8, 9]\n",
    "])\n",
    "\n",
    "print(a.shape)"
   ]
  },
  {
   "attachments": {},
   "cell_type": "markdown",
   "metadata": {},
   "source": [
    "##### **2.2 Scalar operatoins**\n",
    "Các phép toán liên quan đến scalar của Matrix có cách hoạt động  tương tự Vector"
   ]
  },
  {
   "cell_type": "code",
   "execution_count": 21,
   "metadata": {},
   "outputs": [
    {
     "data": {
      "text/plain": [
       "array([[2, 3],\n",
       "       [4, 5]])"
      ]
     },
     "execution_count": 21,
     "metadata": {},
     "output_type": "execute_result"
    }
   ],
   "source": [
    "a = np.array([\n",
    "    [1, 2],\n",
    "    [3, 4]\n",
    "])\n",
    "\n",
    "a + 1"
   ]
  },
  {
   "attachments": {},
   "cell_type": "markdown",
   "metadata": {},
   "source": [
    "##### **2.3 Elementwise Operations**\n",
    "Để có thể thực hiện phép Elementwist trên Matrix, các Matrix phải có **cùng kích thước** với nhau. Chúng ta sẽ thực hiện kết hợp các giá trị tương ứng với từng vị trí của các Matrix với nhau để tạo ra một Matrix mới"
   ]
  },
  {
   "cell_type": "code",
   "execution_count": 22,
   "metadata": {},
   "outputs": [
    {
     "name": "stdout",
     "output_type": "stream",
     "text": [
      "a + b: \n",
      " [[2 4]\n",
      " [6 8]]\n"
     ]
    }
   ],
   "source": [
    "a = np.array([\n",
    "    [1, 2],\n",
    "    [3, 4]\n",
    "])\n",
    "\n",
    "b = np.array([\n",
    "    [1, 2],\n",
    "    [3, 4]\n",
    "])\n",
    "\n",
    "print(\"a + b: \\n\", a + b)"
   ]
  },
  {
   "attachments": {},
   "cell_type": "markdown",
   "metadata": {},
   "source": [
    "##### **2.4 Hadamard Product**\n",
    "Matrix hadamard product sẽ thực hiện phép nhân elementwise"
   ]
  },
  {
   "cell_type": "code",
   "execution_count": 23,
   "metadata": {},
   "outputs": [
    {
     "data": {
      "text/plain": [
       "array([[ 3,  8],\n",
       "       [15, 24]])"
      ]
     },
     "execution_count": 23,
     "metadata": {},
     "output_type": "execute_result"
    }
   ],
   "source": [
    "a = np.array([\n",
    "    [1, 2],\n",
    "    [3, 4]\n",
    "])\n",
    "\n",
    "b = np.array([\n",
    "    [3, 4],\n",
    "    [5, 6]\n",
    "])\n",
    "\n",
    "a * b"
   ]
  },
  {
   "attachments": {},
   "cell_type": "markdown",
   "metadata": {},
   "source": [
    "Trong python, chúng ta có thể sử dụng phép Hadamard giữa vector và matrix. Khi đó, Python sẽ sử dụng phương thức **Broadcasting** "
   ]
  },
  {
   "cell_type": "code",
   "execution_count": 24,
   "metadata": {},
   "outputs": [
    {
     "data": {
      "text/plain": [
       "array([[ 6, 12],\n",
       "       [ 9, 12]])"
      ]
     },
     "execution_count": 24,
     "metadata": {},
     "output_type": "execute_result"
    }
   ],
   "source": [
    "a = np.array([[2,3],\n",
    "              [3,3]])\n",
    "\n",
    "b = np.array([3,4])\n",
    "# Uses python's multiply operator\n",
    "a * b"
   ]
  },
  {
   "attachments": {},
   "cell_type": "markdown",
   "metadata": {},
   "source": [
    "##### **2.5 Matrix multiplication (nhân ma trận) - Dot product**\n",
    "Cho hai ma trận $A(m\\times n), B(n \\times p)$, tích của hai ma trận được ký hiệu là $C = AB$, khi đó $C$ có kích thước $m \\times p$.\n",
    "*Chú ý*: Để nhân được hai ma trận, số cột của ma trận thứ nhất phải bằng số hàng của ma trận thứ hai.\n",
    "\n",
    "Một số tính chất của ma trận:\n",
    "* Phép nhân ma trận không có tính chất giao hoán\n",
    "* Phép nhân ma trận có tính chất kết hợp: $ABC = (AB)C=A(BC)$\n",
    "* Phép nhân ma trận có tính: $A(B+C)=AB+AC$\n",
    "* Chuyển vị của một tích bằng tích chuyển vị theo thứ tự ngược lại: $(AB)^T=B^TA^T$"
   ]
  },
  {
   "cell_type": "code",
   "execution_count": 25,
   "metadata": {},
   "outputs": [
    {
     "data": {
      "text/plain": [
       "array([[38, 17],\n",
       "       [26, 14]])"
      ]
     },
     "execution_count": 25,
     "metadata": {},
     "output_type": "execute_result"
    }
   ],
   "source": [
    "A = np.array([[1, 7], [2, 4]])\n",
    "B = np.array([[3, 3], [5, 2]])\n",
    "\n",
    "np.dot(A, B) "
   ]
  },
  {
   "cell_type": "code",
   "execution_count": 26,
   "metadata": {},
   "outputs": [
    {
     "data": {
      "text/plain": [
       "array([[38, 17],\n",
       "       [26, 14]])"
      ]
     },
     "execution_count": 26,
     "metadata": {},
     "output_type": "execute_result"
    }
   ],
   "source": [
    "A.dot(B)"
   ]
  },
  {
   "cell_type": "code",
   "execution_count": 27,
   "metadata": {},
   "outputs": [
    {
     "data": {
      "text/plain": [
       "array([[ 9, 33],\n",
       "       [ 9, 43]])"
      ]
     },
     "execution_count": 27,
     "metadata": {},
     "output_type": "execute_result"
    }
   ],
   "source": [
    "np.dot(B, A)"
   ]
  },
  {
   "attachments": {},
   "cell_type": "markdown",
   "metadata": {},
   "source": [
    "##### **2.6 Ma trận chuyển vị**\n",
    "Ma trận chuyển vị thường được ký hiệu bằng chữ $T$. Ví dụ chuyển vị của ma trận $M$ được ký hiệu $M^T$\n",
    "Nếu $A^T=A$ thì ta nói $A$ là một ma trận đối xứng"
   ]
  },
  {
   "cell_type": "code",
   "execution_count": 28,
   "metadata": {},
   "outputs": [
    {
     "name": "stdout",
     "output_type": "stream",
     "text": [
      "[[1 3]\n",
      " [2 4]]\n"
     ]
    }
   ],
   "source": [
    "a = np.array([[1, 2], \n",
    "              [3, 4]])\n",
    "\n",
    "print(a.T)"
   ]
  },
  {
   "cell_type": "code",
   "execution_count": 29,
   "metadata": {},
   "outputs": [
    {
     "data": {
      "text/plain": [
       "array([[1, 3],\n",
       "       [2, 4]])"
      ]
     },
     "execution_count": 29,
     "metadata": {},
     "output_type": "execute_result"
    }
   ],
   "source": [
    "np.transpose(a)"
   ]
  },
  {
   "attachments": {},
   "cell_type": "markdown",
   "metadata": {},
   "source": [
    "##### **2.7 Định thức**"
   ]
  },
  {
   "cell_type": "code",
   "execution_count": 30,
   "metadata": {},
   "outputs": [
    {
     "data": {
      "text/plain": [
       "-113.00000000000003"
      ]
     },
     "execution_count": 30,
     "metadata": {},
     "output_type": "execute_result"
    }
   ],
   "source": [
    "A = np.array([\n",
    "              [1, -2, 4],\n",
    "              [-5, 3, -1],\n",
    "              [3, 4, 1]\n",
    "])\n",
    "\n",
    "np.linalg.det(A)"
   ]
  },
  {
   "attachments": {},
   "cell_type": "markdown",
   "metadata": {},
   "source": [
    "### **3. Numpy**\n",
    "#### **3.1 Dot Product**\n",
    "Chúng ta sẽ sử dụng function ```np.dot``` (numpy.dot) để thực hiện phép Dot Product (nhân ma trận). Các bạn cần chú ý về kích thước của các phần tử khi thực hiện phép toán."
   ]
  },
  {
   "cell_type": "code",
   "execution_count": 31,
   "metadata": {},
   "outputs": [
    {
     "name": "stdout",
     "output_type": "stream",
     "text": [
      "a_shape:  (1, 2)\n",
      "b_shape:  (2, 2)\n",
      "mn: \n",
      " [[13 16]]\n",
      "mm_shape:  (1, 2)\n"
     ]
    }
   ],
   "source": [
    "a = np.array([\n",
    "    [1, 2]\n",
    "])\n",
    "print('a_shape: ', a.shape)\n",
    "\n",
    "b= np.array([\n",
    "    [3, 4],\n",
    "    [5, 6]\n",
    "])\n",
    "\n",
    "print('b_shape: ', b.shape)\n",
    "\n",
    "# Multiply\n",
    "mm = np.dot(a, b)\n",
    "print('mn: \\n', mm)\n",
    "print('mm_shape: ', mm.shape)"
   ]
  },
  {
   "attachments": {},
   "cell_type": "markdown",
   "metadata": {},
   "source": [
    "#### **3.2 Broadcasting**\n",
    "Broadcasting cho phép thực thi các phép toán trên các mảng có kích thước khác nhau\n",
    "\n",
    "Có thể Broadcasting nếu thỏa mãn các trường hợp sau:\n",
    "* Mảng kích thước nhỏ hơn có thể được nối với `1` trong hình dạng của nó\n",
    "* Kích thước của mỗi dimension output là kích thước tối đa trong input dimention\n",
    "* Một input có thể được sử dụng trong tính toán nếu kích thước của nó trong một dimention cụ thể khớp với kích thước output hoặc giá trị của nó chính xác là `1`\n",
    "* Nếu kích thước input là `1`, thì mục nhập dữ liệu đầu tiên được sử dụng để tính toán dọc theo dimension\n",
    "\n",
    "Broadcast có thể được áp dụng cho các mảng nếu các quy tắc sau được thỏa mãn\n",
    "* Tất cả các mảng đầu vào có cùng hình dạng\n",
    "* Mảng có cùng số thứ nguyên và độ dài của mỗi thứ nguyên là độ dài chung hoặc `1`\n",
    "* Mảng có kích thước ít hơn được nối với `1` trong hình dạng của nó\n",
    "\n",
    "Tìm hiểu thêm: https://numpy.org/doc/stable/user/basics.broadcasting.html"
   ]
  },
  {
   "cell_type": "code",
   "execution_count": null,
   "metadata": {},
   "outputs": [],
   "source": []
  }
 ],
 "metadata": {
  "kernelspec": {
   "display_name": "cuongenv",
   "language": "python",
   "name": "python3"
  },
  "language_info": {
   "codemirror_mode": {
    "name": "ipython",
    "version": 3
   },
   "file_extension": ".py",
   "mimetype": "text/x-python",
   "name": "python",
   "nbconvert_exporter": "python",
   "pygments_lexer": "ipython3",
   "version": "3.9.16"
  },
  "orig_nbformat": 4
 },
 "nbformat": 4,
 "nbformat_minor": 2
}
