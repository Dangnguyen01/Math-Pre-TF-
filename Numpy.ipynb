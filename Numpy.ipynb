{
 "cells": [
  {
   "attachments": {},
   "cell_type": "markdown",
   "metadata": {},
   "source": [
    "### **NumPy là gì?**\n",
    "Bạn có thể hiểu đơn giản: **Numpy** (Numeric Python) là thư viện cốt lõi cho tính toán khoa học trong Python. Nó cung cấp mối đối tuowngjd da chiều hiệu suất cao và các công cụ để làm việc với các mảng này\n",
    "\n",
    "#### **ndarray**\n",
    "ndarrays, mảng n chiều của kiểu dữ liệu đồng nhất, là kiểu dữ liệu cơ bản được sử dụng trong NumPy. Vì các mảng này cùng kiểu và có kích thước cố định khi tạo, chúng cung cấp độ linh hoạt kém hơn so với danh sách Python, nhưng về cơ bản có thể hiệu quả hơn về thời gian chạy và bộ nhớ. (Danh sách Python là mảng các con trỏ tới các đối tượng, thêm một lớp tham chiếu)\n",
    "\n",
    "Số chiều chính là rank của mảng đó, shape của array là một tuple số nguyên đưa ra size của mảng theo mỗi chiều\n",
    "\n",
    "Có thể tạo ndarray từ Python lists và truy cập vào các phần tử bằng dấu ngoặc vuông như sau"
   ]
  },
  {
   "cell_type": "code",
   "execution_count": 3,
   "metadata": {},
   "outputs": [
    {
     "name": "stdout",
     "output_type": "stream",
     "text": [
      "type:  <class 'numpy.ndarray'>\n",
      "type a[0]:  <class 'numpy.int32'>\n",
      "shape:  (3,)\n",
      "a:  [1 2 3]\n",
      "2\n",
      "shape:  (2, 3)\n",
      "1 2 4\n"
     ]
    }
   ],
   "source": [
    "# Import library\n",
    "import numpy as np\n",
    "\n",
    "\n",
    "a = np.array([1, 2, 3]) # Creat a rank 1 array\n",
    "print('type: ', type(a))\n",
    "print('type a[0]: ', type(a[0]))\n",
    "print('shape: ', a.shape)\n",
    "print('a: ', a)\n",
    "print(a[1])\n",
    "\n",
    "b = np.array([\n",
    "    [1, 2, 3],\n",
    "    [4, 5, 6]\n",
    "])\n",
    "print('shape: ', b.shape) # Creat a rank 2 array\n",
    "print(b[0, 0], b[0, 1], b[1, 0])"
   ]
  },
  {
   "attachments": {},
   "cell_type": "markdown",
   "metadata": {},
   "source": [
    "Khi muốn tạo 1 mảng mới = 1 mảng cũ, ta nên sử dụng như sau để khi thay đổi phần tử của mảng thì không ảnh hưởng đến mảng kia"
   ]
  },
  {
   "cell_type": "code",
   "execution_count": 4,
   "metadata": {},
   "outputs": [
    {
     "name": "stdout",
     "output_type": "stream",
     "text": [
      "[5 2 3]\n",
      "[1 2 3]\n"
     ]
    }
   ],
   "source": [
    "a_copy = a.copy()\n",
    "a[0] = 5\n",
    "print(a)\n",
    "print(a_copy)"
   ]
  },
  {
   "attachments": {},
   "cell_type": "markdown",
   "metadata": {},
   "source": [
    "Tạo ndarray với hàm `zeros()`"
   ]
  },
  {
   "cell_type": "code",
   "execution_count": 5,
   "metadata": {},
   "outputs": [
    {
     "data": {
      "text/plain": [
       "array([[0., 0., 0.],\n",
       "       [0., 0., 0.]])"
      ]
     },
     "execution_count": 5,
     "metadata": {},
     "output_type": "execute_result"
    }
   ],
   "source": [
    "a = np.zeros((2, 3))\n",
    "a"
   ]
  },
  {
   "attachments": {},
   "cell_type": "markdown",
   "metadata": {},
   "source": [
    "Tạo ndarray với hàm `ones()`"
   ]
  },
  {
   "cell_type": "code",
   "execution_count": 6,
   "metadata": {},
   "outputs": [
    {
     "data": {
      "text/plain": [
       "array([[1., 1., 1.],\n",
       "       [1., 1., 1.]])"
      ]
     },
     "execution_count": 6,
     "metadata": {},
     "output_type": "execute_result"
    }
   ],
   "source": [
    "a = np.ones((2, 3))\n",
    "a"
   ]
  },
  {
   "attachments": {},
   "cell_type": "markdown",
   "metadata": {},
   "source": [
    "Tạo ndarray với hàm `full()`"
   ]
  },
  {
   "cell_type": "code",
   "execution_count": 7,
   "metadata": {},
   "outputs": [
    {
     "data": {
      "text/plain": [
       "array([[9, 9, 9],\n",
       "       [9, 9, 9]])"
      ]
     },
     "execution_count": 7,
     "metadata": {},
     "output_type": "execute_result"
    }
   ],
   "source": [
    "b = np.full((2, 3), 9)\n",
    "b"
   ]
  },
  {
   "attachments": {},
   "cell_type": "markdown",
   "metadata": {},
   "source": [
    "Tạo ma trận đơn vị"
   ]
  },
  {
   "cell_type": "code",
   "execution_count": 8,
   "metadata": {},
   "outputs": [
    {
     "data": {
      "text/plain": [
       "array([[1., 0., 0.],\n",
       "       [0., 1., 0.],\n",
       "       [0., 0., 1.]])"
      ]
     },
     "execution_count": 8,
     "metadata": {},
     "output_type": "execute_result"
    }
   ],
   "source": [
    "c = np.eye(3)\n",
    "c"
   ]
  },
  {
   "attachments": {},
   "cell_type": "markdown",
   "metadata": {},
   "source": [
    "Dưới đây là một số hàm hữu ích để theo dõi shape, hữu ích cho việc gỡ lỗi và biết kích thước sẽ hữu ích khi tính toán \n",
    "\n",
    "**reshape**: cung cấp một hình dạng mới cho một mảng mà không thay đổi dữ liệu của nó"
   ]
  },
  {
   "cell_type": "code",
   "execution_count": 14,
   "metadata": {},
   "outputs": [
    {
     "name": "stdout",
     "output_type": "stream",
     "text": [
      "[0 1 2 3 4 5 6 7]\n",
      "(8,)\n",
      "Reshape:\n",
      " [[0 1 2 3]\n",
      " [4 5 6 7]]\n",
      "(2, 4)\n"
     ]
    }
   ],
   "source": [
    "nums = np.arange(8)\n",
    "print(nums)\n",
    "print(nums.shape)\n",
    "\n",
    "nums = nums.reshape((2, 4))\n",
    "print(\"Reshape:\\n\", nums)\n",
    "\n",
    "print(nums.shape)"
   ]
  },
  {
   "attachments": {},
   "cell_type": "markdown",
   "metadata": {},
   "source": [
    "Trong phương thức `reshape()`, ta có thể dùng tham số `-1` trong việc reshape với một dimension ta không biết mà numpy sẽ tự tìm ra dựa trên tất cả các dimension khác trong array size."
   ]
  },
  {
   "cell_type": "code",
   "execution_count": 19,
   "metadata": {},
   "outputs": [
    {
     "name": "stdout",
     "output_type": "stream",
     "text": [
      "Reshape with -1:\n",
      " [[0]\n",
      " [1]\n",
      " [2]\n",
      " [3]\n",
      " [4]\n",
      " [5]\n",
      " [6]\n",
      " [7]] \n",
      "shape:\n",
      " (8, 1)\n"
     ]
    }
   ],
   "source": [
    "nums = nums.reshape((8, -1))\n",
    "print('Reshape with -1:\\n', nums, '\\nshape:\\n', nums.shape)"
   ]
  },
  {
   "attachments": {},
   "cell_type": "markdown",
   "metadata": {},
   "source": [
    "Cách chuyển về mảng 1 chiều"
   ]
  },
  {
   "cell_type": "code",
   "execution_count": 20,
   "metadata": {},
   "outputs": [
    {
     "data": {
      "text/plain": [
       "array([0, 1, 2, 3, 4, 5, 6, 7])"
      ]
     },
     "execution_count": 20,
     "metadata": {},
     "output_type": "execute_result"
    }
   ],
   "source": [
    "nums.reshape(-1)\n",
    "nums.flatten()\n",
    "nums.ravel()"
   ]
  },
  {
   "attachments": {},
   "cell_type": "markdown",
   "metadata": {},
   "source": [
    "NumPy hỗ trợ một mô hình hướng đối tượng, sao cho ndarray có một số phương thức và thuộc tính, với các hàm tương tự như trong namespace Numpy ngoài cùng. Ví dụ, chúng ta có thể làm cả hai cách và cho kết quả như nhau"
   ]
  },
  {
   "cell_type": "code",
   "execution_count": 21,
   "metadata": {},
   "outputs": [
    {
     "name": "stdout",
     "output_type": "stream",
     "text": [
      "0\n",
      "0\n",
      "[[0 1]\n",
      " [2 3]\n",
      " [4 5]\n",
      " [6 7]]\n",
      "[[0 1]\n",
      " [2 3]\n",
      " [4 5]\n",
      " [6 7]]\n",
      "3.5\n",
      "3.5\n"
     ]
    }
   ],
   "source": [
    "nums = np.arange(8)\n",
    "print(nums.min())\n",
    "print(np.min(nums))\n",
    "\n",
    "print(np.reshape(nums, (4, 2)))\n",
    "print(nums.reshape((4,2)))\n",
    "\n",
    "print(np.mean(nums))\n",
    "print(nums.mean())"
   ]
  },
  {
   "attachments": {},
   "cell_type": "markdown",
   "metadata": {},
   "source": [
    "#### **Datatypes**\n",
    "Mỗi mảng Numpy là một lưới các phần tử cùng loại. Numpy cung cấp một tập hợp lớn các kiểu dữ liệu số mà bạn có thể sử dụng để xây dựng các mảng. Numpy cố gắng đoán một kiểu dữ liệu khi bạn tạo một mảng. Nhưng các hàm xây dựng các mảng thường cũng bao gồm một đối số tùy chọn để chỉ định rõ ràng kiểu dữ liệu. "
   ]
  },
  {
   "cell_type": "code",
   "execution_count": 22,
   "metadata": {},
   "outputs": [
    {
     "name": "stdout",
     "output_type": "stream",
     "text": [
      "int32\n",
      "float64\n",
      "int64\n"
     ]
    }
   ],
   "source": [
    "import numpy as np\n",
    "\n",
    "x = np.array([1, 2])\n",
    "print(x.dtype)\n",
    "\n",
    "x = np.array([1.0, 2.0])\n",
    "print(x.dtype)\n",
    "\n",
    "x = np.array([1, 2], dtype=np.int64)\n",
    "print(x.dtype)"
   ]
  },
  {
   "attachments": {},
   "cell_type": "markdown",
   "metadata": {},
   "source": [
    "### **Array Operations/Math**\n",
    "#### **Basic Math**\n",
    "NumPy hỗ trợ rất nhiều các phép toán cơ bản như sau:"
   ]
  },
  {
   "cell_type": "code",
   "execution_count": 23,
   "metadata": {},
   "outputs": [
    {
     "name": "stdout",
     "output_type": "stream",
     "text": [
      "[[ 6.  8.]\n",
      " [10. 12.]]\n",
      "[[ 6.  8.]\n",
      " [10. 12.]]\n",
      "[[-4. -4.]\n",
      " [-4. -4.]]\n",
      "[[-4. -4.]\n",
      " [-4. -4.]]\n",
      "[[ 5. 12.]\n",
      " [21. 32.]]\n",
      "[[ 5. 12.]\n",
      " [21. 32.]]\n",
      "[[0.2        0.33333333]\n",
      " [0.42857143 0.5       ]]\n",
      "[[0.2        0.33333333]\n",
      " [0.42857143 0.5       ]]\n",
      "[[1.         1.41421356]\n",
      " [1.73205081 2.        ]]\n"
     ]
    }
   ],
   "source": [
    "x = np.array([[1, 2],\n",
    "              [3, 4]], dtype=np.float64)\n",
    "y = np.array([[5, 6],\n",
    "              [7, 8]], dtype=np.float64)\n",
    "\n",
    "# Elementwise sum; cả hai cách đều ra kq như nhau\n",
    "# [[ 6.0  8.0]\n",
    "#  [10.0 12.0]]\n",
    "print(x + y)\n",
    "print(np.add(x, y))\n",
    "\n",
    "# Elementwise difference; both produce the array\n",
    "# [[-4.0 -4.0]\n",
    "#  [-4.0 -4.0]]\n",
    "print(x - y)\n",
    "print(np.subtract(x, y))\n",
    "\n",
    "# Elementwise product; both produce the array\n",
    "# [[ 5.0 12.0]\n",
    "#  [21.0 32.0]]\n",
    "print(x * y)\n",
    "print(np.multiply(x, y))\n",
    "\n",
    "# Elementwise division; both produce the array\n",
    "# [[ 0.2         0.33333333]\n",
    "#  [ 0.42857143  0.5       ]]\n",
    "print(x / y)\n",
    "print(np.divide(x, y))\n",
    "\n",
    "# Elementwise square root; produces the array\n",
    "# [[ 1.          1.41421356]\n",
    "#  [ 1.73205081  2.        ]]\n",
    "print(np.sqrt(x))\n"
   ]
  },
  {
   "attachments": {},
   "cell_type": "markdown",
   "metadata": {},
   "source": [
    "#### **Dot Product**\n",
    "Chú ý $*$ là phép nhân toán tử, không phải phép nhân ma trận. Thay vào đó chúng ta sử dụng hàm **dot** để tính tích của 2 vector, nhân vector với ma trận, nhân ma trận với ma trận. **dot** có sẵn ở cả numpy như một hàm của numpy module hoặc là một **instance method** của đối tượng array. Ta có thể xem ví dụ"
   ]
  },
  {
   "cell_type": "code",
   "execution_count": 24,
   "metadata": {},
   "outputs": [
    {
     "name": "stdout",
     "output_type": "stream",
     "text": [
      "219\n",
      "219\n",
      "[29 67]\n",
      "219\n",
      "[[19 22]\n",
      " [43 50]]\n",
      "[[19 22]\n",
      " [43 50]]\n"
     ]
    }
   ],
   "source": [
    "x = np.array([[1, 2], [3, 4]])\n",
    "y = np.array([[5, 6], [7, 8]])\n",
    "\n",
    "v = np.array([9, 10])\n",
    "w = np.array([11, 12])\n",
    "\n",
    "# Inner product of vectors; both produce 219\n",
    "print(v.dot(w))\n",
    "print(np.dot(v, w))\n",
    "\n",
    "# Matrix / vector product; both produce the rank 1 array [29 67]\n",
    "print(x.dot(v))\n",
    "print(np.dot(v, w))\n",
    "\n",
    "# Matrix / matrix product; both produce the rank 2 array\n",
    "# [[19 22]\n",
    "#  [43 50]]\n",
    "print(x.dot(y))\n",
    "print(np.dot(x, y))\n"
   ]
  },
  {
   "attachments": {},
   "cell_type": "markdown",
   "metadata": {},
   "source": [
    "#### **Across specific axes of the ndarray**\n",
    "Có nhiều hàm hữu ích được tích hợp trong NumPy và thường chúng ta có thể thể hiện chúng qua các trục cụ thể của ndarray"
   ]
  },
  {
   "cell_type": "code",
   "execution_count": 27,
   "metadata": {},
   "outputs": [
    {
     "name": "stdout",
     "output_type": "stream",
     "text": [
      "(2, 3, 2)\n",
      "126\n",
      "[[16 18]\n",
      " [20 22]\n",
      " [24 26]]\n",
      "[[30 33]\n",
      " [30 33]]\n"
     ]
    }
   ],
   "source": [
    "x = np.array([\n",
    "    [\n",
    "        [8, 9],\n",
    "        [10, 11],\n",
    "        [12, 13]\n",
    "    ],\n",
    "    [\n",
    "        [8, 9],\n",
    "        [10, 11],\n",
    "        [12, 13]\n",
    "    ]\n",
    "])\n",
    "\n",
    "print(x.shape)\n",
    "\n",
    "print(np.sum(x))\n",
    "print(np.sum(x, axis=0))\n",
    "print(np.sum(x, axis=1))"
   ]
  },
  {
   "attachments": {},
   "cell_type": "markdown",
   "metadata": {},
   "source": [
    "Chúng ta có thể tìm thấy các chỉ số (index) của các phần tử thỏa mãn một số điều kiện nào đó bằng cách sử dụng `np.where()`"
   ]
  },
  {
   "cell_type": "code",
   "execution_count": 32,
   "metadata": {},
   "outputs": [
    {
     "name": "stdout",
     "output_type": "stream",
     "text": [
      "(array([0, 1], dtype=int64), array([2, 2], dtype=int64))\n",
      "[ 3 -3]\n"
     ]
    }
   ],
   "source": [
    "nums = np.array([\n",
    "    [1, 2, 7],\n",
    "    [4, 5, 6]\n",
    "])\n",
    "\n",
    "x = np.array([\n",
    "    [1, 2, 3],\n",
    "    [-1, -2, -3]\n",
    "])\n",
    "\n",
    "print(np.where(nums > 5))\n",
    "print(x[np.where(nums > 5)])"
   ]
  },
  {
   "attachments": {},
   "cell_type": "markdown",
   "metadata": {},
   "source": [
    "Lưu ý khi bạn áp dụng các thao tác sẽ loại bỏ chiều cũ của nó ra khỏi hình dạng (shape). Điều này rất hữu ích để ghe nhớ khi bạn đang cố gắng tìm trục nào tương ứng với các gì. Ví dụ sau sử dụng hàm dim chỉ số chiều của mảng"
   ]
  },
  {
   "cell_type": "code",
   "execution_count": 33,
   "metadata": {},
   "outputs": [
    {
     "name": "stdout",
     "output_type": "stream",
     "text": [
      "x ndim: 2\n",
      "1\n",
      "x ndim: 3\n",
      "2\n",
      "1\n"
     ]
    }
   ],
   "source": [
    "x = np.array([[1, 2, 3], \n",
    "              [4, 5, 6]])\n",
    "\n",
    "print('x ndim:', x.ndim) # sẽ in ra 2 vì x có 2 chiều\n",
    "print((x.max(axis=0)).ndim) # trả ra mảng gồm các phần tử max theo cột có shape(3,0) \n",
    "                             # khi thêm \".ndim\" sẽ trả ra là 1 vì mảng có 1 chiều.\n",
    "\n",
    "# An array with rank 3\n",
    "x = np.array([[[1, 2, 3], \n",
    "               [4, 5, 6]],\n",
    "              [[10, 23, 33], \n",
    "               [43, 52, 16]]\n",
    "             ])\n",
    "\n",
    "print('x ndim:', x.ndim)               # Has shape (2, 2, 3)\n",
    "print((x.max(axis=1)).ndim) # Taking the max over axis 1 has shape (2, 3)\n",
    "print((x.max(axis=(1, 2))).ndim)       # Can take max over multiple axes; prints [6 52]\n"
   ]
  },
  {
   "attachments": {},
   "cell_type": "markdown",
   "metadata": {},
   "source": [
    "#### **Transposing**\n",
    "Ngoài việc tính toán các hàm toán học bằng cách sử dụng các mảng, chúng ta thường cần phải định hình lại hoặc thao tác dữ liệu trong các mảng. Ví dụ đơn giản nhất của loại hoạt động này là chuyển vị (transposing) ma trận. Để hoán vị một ma trận, chỉ cần sử dụng thuộc tính **T** của một array object:"
   ]
  },
  {
   "cell_type": "code",
   "execution_count": 34,
   "metadata": {},
   "outputs": [
    {
     "name": "stdout",
     "output_type": "stream",
     "text": [
      "[[1 2]\n",
      " [3 4]]\n",
      "[[1 3]\n",
      " [2 4]]\n",
      "[1 2 3]\n",
      "[1 2 3]\n"
     ]
    }
   ],
   "source": [
    "import numpy as np\n",
    "\n",
    "x = np.array([[1,2], [3,4]])\n",
    "print(x)    # Prints \"[[1 2]\n",
    "            #          [3 4]]\"\n",
    "print(x.T)  # Prints \"[[1 3]\n",
    "            #          [2 4]]\"\n",
    "\n",
    "# Chú ý rằng chuyển vị 1 mảng có rank = 1 không thay đổi gì cả:\n",
    "v = np.array([1,2,3])\n",
    "print(v)    # Prints \"[1 2 3]\"\n",
    "print(v.T)  # Prints \"[1 2 3]\"\n"
   ]
  },
  {
   "attachments": {},
   "cell_type": "markdown",
   "metadata": {},
   "source": [
    "#### **Vertical & Horizontal Stacking**\n",
    "Tiếp theo, nếu bạn muốn nối hai mảng và không chỉ thêm chúng, bạn có thể thực hiện nó bằng cách xếp chồng dọc và xếp chống ngang"
   ]
  },
  {
   "cell_type": "code",
   "execution_count": 35,
   "metadata": {},
   "outputs": [
    {
     "name": "stdout",
     "output_type": "stream",
     "text": [
      "[[1 2 3]\n",
      " [3 4 5]\n",
      " [1 2 3]\n",
      " [3 4 5]]\n",
      "[[1 2 3 1 2 3]\n",
      " [3 4 5 3 4 5]]\n"
     ]
    }
   ],
   "source": [
    "import numpy as np\n",
    "x= np.array([(1,2,3),(3,4,5)])\n",
    "y= np.array([(1,2,3),(3,4,5)])\n",
    "print(np.vstack((x,y)))\n",
    "print(np.hstack((x,y)))\n"
   ]
  },
  {
   "attachments": {},
   "cell_type": "markdown",
   "metadata": {},
   "source": [
    "#### **Array indexing**\n",
    "Numpy cung cấp một số cách để truy xuất phần tử trong mảng\n",
    "\n",
    "**Slicing**: Tương tự như list trong Python, numpy arrays cũng có thể được cắt (sliced). Vì các mảng có thể là đa chiều, bạn phải chỉ định một lát cho mỗi chiều của mảng. Ví dụ"
   ]
  },
  {
   "cell_type": "code",
   "execution_count": 36,
   "metadata": {},
   "outputs": [
    {
     "name": "stdout",
     "output_type": "stream",
     "text": [
      "Original:\n",
      " [[ 1  2  3  4]\n",
      " [ 5  6  7  8]\n",
      " [ 9 10 11 12]]\n",
      "Element (0, 0) (a[0][0]):\n",
      " 1\n",
      "Element (0, 0) (a[0, 0]) :\n",
      " 1\n",
      "Sliced (a[:2, 1:3]):\n",
      " [[2 3]\n",
      " [6 7]]\n",
      "Reversing the first row (a[0, ::-1]) :\n",
      " [4 3 2 1]\n",
      "slice the first row by the [...] operator: \n",
      " [1 2 3 4]\n"
     ]
    }
   ],
   "source": [
    "# Tạo một numpy array có shape (3, 4) với giá trị như sau:\n",
    "# [[ 1  2  3  4]\n",
    "#  [ 5  6  7  8]\n",
    "#  [ 9 10 11 12]]\n",
    "a = np.array([[1, 2, 3, 4],\n",
    "              [5, 6, 7, 8],\n",
    "              [9, 10, 11, 12]])\n",
    "print('Original:\\n', a)\n",
    "\n",
    "# Can select an element as you would in a 2 dimensional Python list\n",
    "print('Element (0, 0) (a[0][0]):\\n', a[0][0])   # Prints 1\n",
    "# or as follows\n",
    "print('Element (0, 0) (a[0, 0]) :\\n', a[0, 0])  # Prints 1\n",
    "\n",
    "# Use slicing to pull out the subarray consisting of the first 2 rows\n",
    "# and columns 1 and 2; b is the following array of shape (2, 2):\n",
    "# [[2 3]\n",
    "#  [6 7]]\n",
    "print('Sliced (a[:2, 1:3]):\\n', a[:2, 1:3])\n",
    "\n",
    "# Steps are also supported in indexing. The following reverses the first row:\n",
    "print('Reversing the first row (a[0, ::-1]) :\\n', a[0, ::-1]) # Prints [4 3 2 1]\n",
    "\n",
    "# slice by the first dimension, works for n-dimensional array where n >= 1\n",
    "print('slice the first row by the [...] operator: \\n', a[0, ...])\n"
   ]
  },
  {
   "attachments": {},
   "cell_type": "markdown",
   "metadata": {},
   "source": [
    "Thông thường, thật hữu ích khi chọn hoặc sửa đổi một phần tử mỗi hàng của ma trận. Ví dụ sau sử dụng **fancy indexing**, trong đó chúng ta lập chỉ mục vào mảng của chúng tôi bằng cách sử dụng một mảng các chỉ số (giả sử một mảng các số nguyên hoặc booleans):"
   ]
  },
  {
   "cell_type": "code",
   "execution_count": 37,
   "metadata": {},
   "outputs": [
    {
     "name": "stdout",
     "output_type": "stream",
     "text": [
      "[[ 1  2  3]\n",
      " [ 4  5  6]\n",
      " [ 7  8  9]\n",
      " [10 11 12]]\n",
      "[ 1  6  7 11]\n",
      "1\n",
      "6\n",
      "7\n",
      "11\n",
      "[[100   2   3]\n",
      " [  4   5   6]\n",
      " [  7   8   9]\n",
      " [ 10  11  12]]\n",
      "[[110   2   3]\n",
      " [  4   5  16]\n",
      " [ 17   8   9]\n",
      " [ 10  21  12]]\n"
     ]
    }
   ],
   "source": [
    "# Tạo một mảng mới\n",
    "a = np.array([[1, 2, 3],\n",
    "              [4, 5, 6],\n",
    "              [7, 8, 9],\n",
    "              [10, 11, 12]])\n",
    "\n",
    "print(a)  # prints \"array([[ 1,  2,  3],\n",
    "          #                [ 4,  5,  6],\n",
    "          #                [ 7,  8,  9],\n",
    "          #                [10, 11, 12]])\"\n",
    "\n",
    "# Tạo một mảng chỉ số\n",
    "b = np.array([0, 2, 0, 1])\n",
    "\n",
    "# Chọn một phần tử từ mỗi hàng của a bằng cách sử dụng các chỉ số trong b\n",
    "print(a[np.arange(4), b])  # Prints \"[ 1  6  7 11]\"\n",
    "\n",
    "# same as\n",
    "for x, y in zip(np.arange(4), b):\n",
    "    print(a[x, y])\n",
    "\n",
    "c = a[0]\n",
    "c[0] = 100\n",
    "print(a)\n",
    "\n",
    "# Đột biến một phần tử từ mỗi hàng của a bằng cách sử dụng các chỉ số trong b\n",
    "a[np.arange(4), b] += 10\n",
    "\n",
    "print(a)  # prints \"array([[11,  2,  3],\n",
    "          #                [ 4,  5, 16],\n",
    "          #                [17,  8,  9],\n",
    "          #                [10, 21, 12]])\n"
   ]
  },
  {
   "attachments": {},
   "cell_type": "markdown",
   "metadata": {},
   "source": [
    "**Boolean array indexing**: Cho phép bạn chọn ra các phần tử tùy ý của một mảng, thường được sử dụng để chọn ra các phần tử thỏa mãn điều kiện nào đó. Ví dụ ta thay đổi giá trị các phần tử trong mảng lớn hơn MAX = 5 thành một số khác như 100"
   ]
  },
  {
   "cell_type": "code",
   "execution_count": 38,
   "metadata": {},
   "outputs": [
    {
     "name": "stdout",
     "output_type": "stream",
     "text": [
      "[False False  True False  True False False]\n",
      "[  1   4 100  -1 100   0   5]\n"
     ]
    }
   ],
   "source": [
    "MAX = 5\n",
    "nums = np.array([1, 4, 10, -1, 15, 0, 5])\n",
    "print(nums > MAX)         # Prints [False, False, True, False, True, False, False]\n",
    "\n",
    "nums[nums > MAX] = 100\n",
    "print(nums)               # Prints [  1   4 100  -1 100   0   5]\n"
   ]
  },
  {
   "attachments": {},
   "cell_type": "markdown",
   "metadata": {},
   "source": [
    "Hoặc in ra các phần tử thỏa mãn điều kiện nào đó:"
   ]
  },
  {
   "cell_type": "code",
   "execution_count": 39,
   "metadata": {},
   "outputs": [
    {
     "name": "stdout",
     "output_type": "stream",
     "text": [
      "[4 5 6 7]\n"
     ]
    }
   ],
   "source": [
    "x = np.arange(8) \n",
    "print(x[x>3]) # Prints \"[4 5 6 7]\"\n"
   ]
  },
  {
   "attachments": {},
   "cell_type": "markdown",
   "metadata": {},
   "source": [
    "#### **Broadcasting**\n",
    "Nhiều phép toán chúng ta đã xem xét ở trên là các mảng cùng rank. Tuy nhiên, nhiều lần chúng ta có thể có một mảng nhỏ hơn và sử dụng nhiều lần để cập nhật một mảng có kích thước lớn hơn. Ví dụ, hãy xem ví dụ dưới đây về việc dịch chuyển giá trị trung bình của mỗi cột từ các thành phần của cột tương ứng"
   ]
  },
  {
   "cell_type": "code",
   "execution_count": 40,
   "metadata": {},
   "outputs": [
    {
     "name": "stdout",
     "output_type": "stream",
     "text": [
      "(2, 3)\n",
      "[2.  3.5 5. ]\n",
      "(3,)\n",
      "\n",
      " [[-1.  -1.5 -2. ]\n",
      " [ 1.   1.5  2. ]]\n",
      "(2, 3)\n"
     ]
    }
   ],
   "source": [
    "x = np.array([[1, 2, 3],\n",
    "              [3, 5, 7]])\n",
    "print(x.shape)  # Prints (2, 3)\n",
    "\n",
    "col_means = x.mean(axis=0)\n",
    "print(col_means)          # Prints [2. 3.5 5.]\n",
    "print(col_means.shape)    # Prints (3,)\n",
    "                          # Has a smaller rank than x!\n",
    "\n",
    "mean_shifted = x - col_means\n",
    "print('\\n', mean_shifted)\n",
    "print(mean_shifted.shape)  # Prints (2, 3)\n"
   ]
  },
  {
   "attachments": {},
   "cell_type": "markdown",
   "metadata": {},
   "source": [
    "**Broadcasting** 2 arrays với nhau tuân theo các quy luật sau:\n",
    "\n",
    "1. Nếu các mảng không cùng rank, sẽ thêm vào shape của mảng **low rank** với 1 cho đến khi **shape** của cả 2 mảng có cùng **length**\n",
    "2. Hai mảng được coi là tương thích về **dimension** nếu chúng có cùng size trong **dimension** hoặc 1 trong các mảng có size 1 trong **dimension** đó.\n",
    "3. Các mảng có thể **broadcast** nếu chúng tương thích ở tất cả các chiều.\n",
    "4. Sau khi **broadcasting**, mỗi mảng hoạt động như thể nó có **shape** bằng **maximum of shapes** của 2 mảng đầu vào.\n",
    "5. Trong bất kỳ **dimension** nào trong đó một mảng có kích thước 1 và mảng khác có kích thước lớn hơn 1, mảng đầu tiên hoạt động như thể nó được sao chép dọc theo **dimension** đó.\n",
    "\n",
    "Để cho dễ hiểu, thì khi thực hiện phép trừ cột ở trên, chúng ta có các mảng có shape (2,3) và (3,).\n",
    "\n",
    "1. Các mảng này không có cùng thứ hạng, vì vậy chúng ta bổ sung 1 vào shape của mảng thấp rank hơn để tạo ra **shape** (1,3).\n",
    "2. (2, 3) và (1, 3) tương thích (có cùng size trong dimension hoặc nếu một trong các mảng có size 1 trong dimension đó).\n",
    "3. Có thể được **broadcast** cùng nhau!\n",
    "4. Sau khi **broadcasting**, mỗi mảng hoạt động như thể nó có **shape** bằng (2, 3).\n",
    "5. Mảng nhỏ hơn sẽ hoạt động như thể nó được sao chép dọc theo chiều 0. (theo cột )\n"
   ]
  },
  {
   "cell_type": "code",
   "execution_count": 41,
   "metadata": {},
   "outputs": [
    {
     "name": "stdout",
     "output_type": "stream",
     "text": [
      "(2, 3)\n",
      "row_means shape: (2,)\n",
      "[[-1.  0.  1.]\n",
      " [-2.  0.  2.]]\n",
      "(2, 3)\n"
     ]
    }
   ],
   "source": [
    "x = np.array([[1, 2, 3],\n",
    "              [3, 5, 7]])\n",
    "print(x.shape)  # Prints (2, 3)\n",
    "\n",
    "row_means = x.mean(axis=1)\n",
    "print('row_means shape:', row_means.shape)\n",
    "row_means = row_means.reshape(2,1)\n",
    "\n",
    "mean_shifted = x - row_means\n",
    "print(mean_shifted)\n",
    "print(mean_shifted.shape)  # Prints (2, 3)\n"
   ]
  },
  {
   "attachments": {},
   "cell_type": "markdown",
   "metadata": {},
   "source": [
    "#### **View vs Copies (option)**\n",
    "Không giống như **copy**, trong một **view** của một mảng, dữ liệu được chia sẻ giữa chế độ **view** và **array**. Đôi khi kết quả của chúng ta là bản sao của một mảng, nhưng lần khác chúng có thể là **views**. Hiểu khi nào chúng được tạo ra là một việc quan trọng để tránh các vấn đề bạn không thể lường trước được.\n",
    "\n",
    "**Views** có thể tạo từ **slice** của một mảng, thay đổi dtype của cùng một vùng dữ liệu (sử dụng `arr.view(dtype)`, không phải kết quả của `arr.astype(dtype)`).\n",
    "\n",
    "Ta sẽ xem qua các ví dụ sau để có thể hiểu rõ về view hơn."
   ]
  },
  {
   "cell_type": "code",
   "execution_count": 42,
   "metadata": {},
   "outputs": [
    {
     "name": "stdout",
     "output_type": "stream",
     "text": [
      "Original:\n",
      " [0 1 2 3 4]\n",
      "Array After Modified View:\n",
      " [ 0  1 -1  3  4]\n"
     ]
    }
   ],
   "source": [
    "import numpy as np\n",
    "x = np.arange(5)\n",
    "print('Original:\\n', x)  # Prints [0 1 2 3 4]\n",
    "\n",
    "# Modifying the view will modify the array\n",
    "view = x[1:3]\n",
    "view[1] = -1\n",
    "print('Array After Modified View:\\n', x)  # Prints [0 1 -1 3 4]\n"
   ]
  },
  {
   "cell_type": "code",
   "execution_count": 43,
   "metadata": {},
   "outputs": [
    {
     "name": "stdout",
     "output_type": "stream",
     "text": [
      "View Before Array Modification:\n",
      " [ 1 -1]\n",
      "Array After Modifications:\n",
      " [ 0  1 10  3  4]\n",
      "View After Array Modification:\n",
      " [ 1 10]\n"
     ]
    }
   ],
   "source": [
    "x = np.arange(5)\n",
    "view = x[1:3]\n",
    "view[1] = -1\n",
    "\n",
    "# Modifying the array will modify the view\n",
    "print('View Before Array Modification:\\n', view)  # Prints [1 -1]\n",
    "x[2] = 10\n",
    "print('Array After Modifications:\\n', x)          # Prints [0 1 10 3 4]\n",
    "print('View After Array Modification:\\n', view)   # Prints [1 10]\n"
   ]
  },
  {
   "attachments": {},
   "cell_type": "markdown",
   "metadata": {},
   "source": [
    "Tuy nhiên khi chúng ta sử dụng fancy indexing (được giới hiệu ở phần indexing bên trên) thì kết quả chắc chắn là một copy, không phải một view.\n",
    "\n",
    "Ví dụ 1"
   ]
  },
  {
   "cell_type": "code",
   "execution_count": 44,
   "metadata": {},
   "outputs": [
    {
     "name": "stdout",
     "output_type": "stream",
     "text": [
      "Original:\n",
      " [0 1 2 3 4]\n",
      "Copy:\n",
      " [ 1 -1]\n",
      "Array After Modified Copy:\n",
      " [0 1 2 3 4]\n"
     ]
    }
   ],
   "source": [
    "x = np.arange(5)\n",
    "print('Original:\\n', x)  # Prints [0 1 2 3 4]\n",
    "\n",
    "# Modifying the result of the selection due to fancy indexing\n",
    "# will not modify the original array.\n",
    "copy = x[[1, 2]]\n",
    "copy[1] = -1\n",
    "print('Copy:\\n', copy) # Prints [1 -1]\n",
    "print('Array After Modified Copy:\\n', x)  # Prints [0 1 2 3 4]\n"
   ]
  },
  {
   "attachments": {},
   "cell_type": "markdown",
   "metadata": {},
   "source": [
    "Ví dụ 2"
   ]
  },
  {
   "cell_type": "code",
   "execution_count": 45,
   "metadata": {},
   "outputs": [
    {
     "name": "stdout",
     "output_type": "stream",
     "text": [
      "Original:\n",
      " [0 1 2 3 4]\n",
      "Copy:\n",
      " [2 3 4]\n",
      "Modified Array:\n",
      " [ 0  1  2 10  4]\n",
      "Copy After Modified Array:\n",
      " [2 3 4]\n"
     ]
    }
   ],
   "source": [
    "# Another example involving fancy indexing\n",
    "x = np.arange(5)\n",
    "print('Original:\\n', x)  # Prints [0 1 2 3 4]\n",
    "\n",
    "copy = x[x >= 2]\n",
    "print('Copy:\\n', copy) # Prints [2 3 4]\n",
    "x[3] = 10\n",
    "print('Modified Array:\\n', x)  # Prints [0 1 2 10 4]\n",
    "print('Copy After Modified Array:\\n', copy)  # Prints [2 3 4]\n"
   ]
  },
  {
   "cell_type": "code",
   "execution_count": null,
   "metadata": {},
   "outputs": [],
   "source": []
  }
 ],
 "metadata": {
  "kernelspec": {
   "display_name": "cuongenv",
   "language": "python",
   "name": "python3"
  },
  "language_info": {
   "codemirror_mode": {
    "name": "ipython",
    "version": 3
   },
   "file_extension": ".py",
   "mimetype": "text/x-python",
   "name": "python",
   "nbconvert_exporter": "python",
   "pygments_lexer": "ipython3",
   "version": "3.9.16"
  },
  "orig_nbformat": 4
 },
 "nbformat": 4,
 "nbformat_minor": 2
}
